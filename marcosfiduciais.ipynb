{
 "cells": [
  {
   "cell_type": "code",
   "execution_count": 4,
   "source": [
    "import numpy as np\n",
    "import cv2, PIL\n",
    "from cv2 import aruco\n",
    "import matplotlib.pyplot as plt\n",
    "import matplotlib as mpl\n",
    "import pandas as pd\n",
    "import os\n",
    "\n",
    "from skimage import io "
   ],
   "outputs": [
    {
     "output_type": "error",
     "ename": "ModuleNotFoundError",
     "evalue": "No module named 'skimage'",
     "traceback": [
      "\u001b[0;31m---------------------------------------------------------------------------\u001b[0m",
      "\u001b[0;31mModuleNotFoundError\u001b[0m                       Traceback (most recent call last)",
      "\u001b[0;32m<ipython-input-4-92f810da3e64>\u001b[0m in \u001b[0;36m<module>\u001b[0;34m\u001b[0m\n\u001b[1;32m      7\u001b[0m \u001b[0;32mimport\u001b[0m \u001b[0mos\u001b[0m\u001b[0;34m\u001b[0m\u001b[0;34m\u001b[0m\u001b[0m\n\u001b[1;32m      8\u001b[0m \u001b[0;34m\u001b[0m\u001b[0m\n\u001b[0;32m----> 9\u001b[0;31m \u001b[0;32mfrom\u001b[0m \u001b[0mskimage\u001b[0m \u001b[0;32mimport\u001b[0m \u001b[0mio\u001b[0m\u001b[0;34m\u001b[0m\u001b[0;34m\u001b[0m\u001b[0m\n\u001b[0m",
      "\u001b[0;31mModuleNotFoundError\u001b[0m: No module named 'skimage'"
     ]
    }
   ],
   "metadata": {}
  },
  {
   "cell_type": "code",
   "execution_count": 17,
   "source": [
    "#DICIONARIOS DISPONIBILIZADOS\n",
    "    # DICT_[4 a 7]X[4 a 7]_[50, 100, 250, 1000]\n",
    "    # ex : aruco.DICT_6X6_250 (6 x 6 pixels com ids de 0 a 249)\n",
    "\n",
    "aruco_dict = aruco.Dictionary_get(aruco.DICT_6X6_250)\n",
    "tag_id = 10\n",
    "n_pixels = 200\n",
    "\n",
    "\n",
    "#aruco.drawMarler(dicionario, ID do marcador, tamanho da imagem pixels x pixels)\n",
    "img = aruco.drawMarker(aruco_dict, tag_id, n_pixels)\n",
    "\n",
    "cv2.imshow('tag', img)\n",
    "\n",
    "cv2.waitKey(0)\n",
    "cv2.destroyAllWindows()"
   ],
   "outputs": [],
   "metadata": {}
  },
  {
   "cell_type": "markdown",
   "source": [
    "## DETECCAO"
   ],
   "metadata": {}
  },
  {
   "cell_type": "code",
   "execution_count": 6,
   "source": [
    "direc = '/home/mr_alden/Pictures'\n",
    "\n",
    "os.listdir(direc)"
   ],
   "outputs": [
    {
     "output_type": "execute_result",
     "data": {
      "text/plain": [
       "['Wallpapers',\n",
       " 'arucotest.png',\n",
       " 'Screenshot from 2021-06-18 23-04-06.png',\n",
       " 'Screenshot from 2021-08-05 09-38-54.png',\n",
       " 'Screenshot from 2021-08-03 15-49-58.png',\n",
       " 'Screenshot from 2021-08-05 08-10-30.png',\n",
       " 'Screenshot from 2021-08-04 08-30-37.png',\n",
       " 'Screenshot from 2021-04-09 12-48-42.png']"
      ]
     },
     "metadata": {},
     "execution_count": 6
    }
   ],
   "metadata": {}
  },
  {
   "cell_type": "code",
   "execution_count": 9,
   "source": [
    "# BUSCA DE IMAGEM E CONVERSAO PARA RGB\n",
    "\n",
    "frame = io.imread('~/Pictures/arucotest.png') # Carrega imagem a partir de uma URL\n",
    "frame = cv2.cvtColor(frame, cv2.COLOR_BGR2RGB) # Função responsável por converter do formato BGR para RGB\n",
    "print(\"Imagem no padrão RGB\")\n",
    "cv2.imshow('image', frame)\n",
    "\n",
    "cv2.waitKey(0)\n",
    "cv2.destroyAllWindows()"
   ],
   "outputs": [
    {
     "output_type": "stream",
     "name": "stdout",
     "text": [
      "Imagem no padrão RGB\n"
     ]
    }
   ],
   "metadata": {}
  },
  {
   "cell_type": "code",
   "execution_count": 21,
   "source": [
    "gray = cv2.cvtColor(frame, cv2.COLOR_BGR2GRAY) # converte para a escala de cinza\n",
    "aruco_dict = aruco.Dictionary_get(aruco.DICT_6X6_250) # escolhe o dicionario\n",
    "parameters =  aruco.DetectorParameters_create() \n",
    "corners, ids, rejectedImgPoints = aruco.detectMarkers(gray, aruco_dict, parameters = parameters) #detecta os marcadores\n",
    "frame_markers = aruco.drawDetectedMarkers(frame.copy(), corners, ids) # desenha os ids, marcadores e  orientação\n",
    "\n",
    "cv2.imshow('result', frame_markers)\n",
    "\n",
    "cv2.waitKey(0)\n",
    "cv2.destroyAllWindows()"
   ],
   "outputs": [],
   "metadata": {}
  }
 ],
 "metadata": {
  "orig_nbformat": 4,
  "language_info": {
   "name": "python",
   "version": "3.8.10",
   "mimetype": "text/x-python",
   "codemirror_mode": {
    "name": "ipython",
    "version": 3
   },
   "pygments_lexer": "ipython3",
   "nbconvert_exporter": "python",
   "file_extension": ".py"
  },
  "kernelspec": {
   "name": "python3",
   "display_name": "Python 3.8.10 64-bit"
  },
  "interpreter": {
   "hash": "916dbcbb3f70747c44a77c7bcd40155683ae19c65e1c03b4aa3499c5328201f1"
  }
 },
 "nbformat": 4,
 "nbformat_minor": 2
}