{
 "cells": [
  {
   "cell_type": "code",
   "execution_count": 1,
   "source": [
    "import cv2\n",
    "import numpy as np\n",
    "from skimage import io\n",
    "\n",
    "\n",
    "import pytesseract\n",
    "import shutil\n",
    "import os\n",
    "import random\n",
    "try:\n",
    "    from PIL import Image\n",
    "except ImportError:\n",
    "    import Image"
   ],
   "outputs": [
    {
     "output_type": "error",
     "ename": "ModuleNotFoundError",
     "evalue": "No module named 'skimage'",
     "traceback": [
      "\u001b[0;31m---------------------------------------------------------------------------\u001b[0m",
      "\u001b[0;31mModuleNotFoundError\u001b[0m                       Traceback (most recent call last)",
      "\u001b[0;32m<ipython-input-1-f5aa6a7ab833>\u001b[0m in \u001b[0;36m<module>\u001b[0;34m\u001b[0m\n\u001b[1;32m      1\u001b[0m \u001b[0;32mimport\u001b[0m \u001b[0mcv2\u001b[0m\u001b[0;34m\u001b[0m\u001b[0;34m\u001b[0m\u001b[0m\n\u001b[1;32m      2\u001b[0m \u001b[0;32mimport\u001b[0m \u001b[0mnumpy\u001b[0m \u001b[0;32mas\u001b[0m \u001b[0mnp\u001b[0m\u001b[0;34m\u001b[0m\u001b[0;34m\u001b[0m\u001b[0m\n\u001b[0;32m----> 3\u001b[0;31m \u001b[0;32mfrom\u001b[0m \u001b[0mskimage\u001b[0m \u001b[0;32mimport\u001b[0m \u001b[0mio\u001b[0m\u001b[0;34m\u001b[0m\u001b[0;34m\u001b[0m\u001b[0m\n\u001b[0m\u001b[1;32m      4\u001b[0m \u001b[0;34m\u001b[0m\u001b[0m\n\u001b[1;32m      5\u001b[0m \u001b[0;34m\u001b[0m\u001b[0m\n",
      "\u001b[0;31mModuleNotFoundError\u001b[0m: No module named 'skimage'"
     ]
    }
   ],
   "metadata": {}
  },
  {
   "cell_type": "markdown",
   "source": [
    "### File configuration"
   ],
   "metadata": {}
  },
  {
   "cell_type": "code",
   "execution_count": 9,
   "source": [
    "# Conf.\n",
    "img_dir = '~/Desktop/cards.jpg'\n",
    "img = io.imread(img_dir)"
   ],
   "outputs": [],
   "metadata": {}
  },
  {
   "cell_type": "markdown",
   "source": [
    "### Conversion"
   ],
   "metadata": {}
  },
  {
   "cell_type": "code",
   "execution_count": 3,
   "source": [
    "# Função responsável por converter imagem\n",
    "def conversion(image, tipo):\n",
    "    if tipo == 'rgb':\n",
    "        converted = cv2.cvtColor(image, cv2.COLOR_BGR2RGB)\n",
    "    if tipo == 'gray':\n",
    "        converted = cv2.cvtColor(image,cv2.COLOR_RGB2GRAY)\n",
    "    return converted"
   ],
   "outputs": [],
   "metadata": {}
  },
  {
   "cell_type": "markdown",
   "source": [
    "### Print image"
   ],
   "metadata": {}
  },
  {
   "cell_type": "code",
   "execution_count": 14,
   "source": [
    "# Escala de cinza\n",
    "\n",
    "cv2.imshow('cardsrgb', conversion(img, 'gray'))\n",
    "\n",
    "# Digite qualquer tecla para fechar a imagem\n",
    "cv2.waitKey(0)\n",
    "cv2.destroyAllWindows()"
   ],
   "outputs": [],
   "metadata": {
    "scrolled": true
   }
  },
  {
   "cell_type": "markdown",
   "source": [
    "### Image shape"
   ],
   "metadata": {}
  },
  {
   "cell_type": "code",
   "execution_count": 15,
   "source": [
    "print(\"(largura, altura, canais)\")\n",
    "print(img.shape)"
   ],
   "outputs": [
    {
     "output_type": "stream",
     "name": "stdout",
     "text": [
      "(largura, altura, canais)\n",
      "(500, 477, 3)\n"
     ]
    }
   ],
   "metadata": {}
  },
  {
   "cell_type": "markdown",
   "source": [
    "### Pixels operation"
   ],
   "metadata": {}
  },
  {
   "cell_type": "code",
   "execution_count": 17,
   "source": [
    "# MATRIZ COMPLETA\n",
    "#print(\"Imagem completa: \\n\")\n",
    "#print(img)\n",
    "\n",
    "#print(\"Pixel individual (BGR): \\n\")\n",
    "print(img[499][400]) #input [y][x] outpup [B][G][R]"
   ],
   "outputs": [
    {
     "output_type": "stream",
     "name": "stdout",
     "text": [
      "[26 19 13]\n"
     ]
    }
   ],
   "metadata": {}
  },
  {
   "cell_type": "markdown",
   "source": [
    "## Blur"
   ],
   "metadata": {}
  },
  {
   "cell_type": "code",
   "execution_count": 18,
   "source": [
    "imgBlur = cv2.GaussianBlur(conversion(img, 'rgb'),(7,7),10)\n",
    "cv2.imshow('blurred', imgBlur)\n",
    "\n",
    "cv2.waitKey(0)\n",
    "cv2.destroyAllWindows()"
   ],
   "outputs": [],
   "metadata": {}
  },
  {
   "cell_type": "markdown",
   "source": [
    "### Filtro Canny"
   ],
   "metadata": {}
  },
  {
   "cell_type": "code",
   "execution_count": 19,
   "source": [
    "imgCanny = cv2.Canny(img,150,200)\n",
    "cv2.imshow('cannized', imgCanny)\n",
    "\n",
    "cv2.waitKey(0)\n",
    "cv2.destroyAllWindows()"
   ],
   "outputs": [],
   "metadata": {}
  },
  {
   "cell_type": "markdown",
   "source": [
    "### Dilatacao"
   ],
   "metadata": {}
  },
  {
   "cell_type": "code",
   "execution_count": 20,
   "source": [
    "kernel = np.ones((2,2),np.uint8)\n",
    "imgDilation = cv2.dilate(imgCanny,kernel,iterations=1)\n",
    "cv2.imshow('dilated', imgDilation)\n",
    "\n",
    "cv2.waitKey(0)\n",
    "cv2.destroyAllWindows()"
   ],
   "outputs": [],
   "metadata": {}
  },
  {
   "cell_type": "markdown",
   "source": [
    "### Erosao"
   ],
   "metadata": {}
  },
  {
   "cell_type": "code",
   "execution_count": 21,
   "source": [
    "kernel = np.ones((2,2),np.uint8)\n",
    "imgEroded = cv2.erode(imgDilation,kernel,iterations=1)\n",
    "cv2.imshow('erosao', imgEroded)\n",
    "\n",
    "cv2.waitKey(0)\n",
    "cv2.destroyAllWindows()"
   ],
   "outputs": [],
   "metadata": {}
  },
  {
   "cell_type": "markdown",
   "source": [
    "### Redimensionamento"
   ],
   "metadata": {}
  },
  {
   "cell_type": "code",
   "execution_count": 23,
   "source": [
    "imgResize = cv2.resize(img,(1000, 500))\n",
    "print(\"(altura, largura, canais)\")\n",
    "print(imgResize.shape)\n",
    "cv2.imshow('resized', imgResize)\n",
    "\n",
    "cv2.waitKey(0)\n",
    "cv2.destroyAllWindows()"
   ],
   "outputs": [
    {
     "output_type": "stream",
     "name": "stdout",
     "text": [
      "(altura, largura, canais)\n",
      "(500, 1000, 3)\n"
     ]
    }
   ],
   "metadata": {}
  },
  {
   "cell_type": "markdown",
   "source": [
    "### Recorte"
   ],
   "metadata": {}
  },
  {
   "cell_type": "code",
   "execution_count": 24,
   "source": [
    "imgCropped = img[0:400,200:500]\n",
    "print(\"Imagem Original\")\n",
    "#cv2.imshow('original', img)\n",
    "print(\"Imagem Recortada\")\n",
    "print(imgCropped.shape)\n",
    "cv2.imshow('cropped', imgCropped)\n",
    "\n",
    "\n",
    "cv2.waitKey(0)\n",
    "cv2.destroyAllWindows()"
   ],
   "outputs": [
    {
     "output_type": "stream",
     "name": "stdout",
     "text": [
      "Imagem Original\n",
      "Imagem Recortada\n",
      "(400, 277, 3)\n"
     ]
    }
   ],
   "metadata": {}
  },
  {
   "cell_type": "markdown",
   "source": [
    "# Formas e textos"
   ],
   "metadata": {}
  },
  {
   "cell_type": "code",
   "execution_count": 4,
   "source": [
    "img_new = np.zeros((512,512,3),np.uint8)\n",
    "cv2.imshow('blacksquare', img_new)\n",
    "\n",
    "cv2.waitKey(0)\n",
    "cv2.destroyAllWindows()"
   ],
   "outputs": [],
   "metadata": {}
  },
  {
   "cell_type": "markdown",
   "source": [
    "#### rectangle with line"
   ],
   "metadata": {}
  },
  {
   "cell_type": "code",
   "execution_count": 5,
   "source": [
    "img_new = np.zeros((512,512,3),np.uint8)\n",
    "cv2.line(img_new,(200,200),(img_new.shape[1],img_new.shape[0]),(0,100,0),3)\n",
    "cv2.imshow('with line', img_new)\n",
    "\n",
    "cv2.waitKey(0)\n",
    "cv2.destroyAllWindows()\n",
    "\n",
    "print(\"Primeiro Ponto: (\",0,\", \",0,\")\")\n",
    "print(\"Segundo Ponto: (\",img_new.shape[1],\", \",img_new.shape[0],\")\")"
   ],
   "outputs": [
    {
     "output_type": "stream",
     "name": "stdout",
     "text": [
      "Primeiro Ponto: ( 0 ,  0 )\n",
      "Segundo Ponto: ( 512 ,  512 )\n"
     ]
    }
   ],
   "metadata": {}
  },
  {
   "cell_type": "markdown",
   "source": [
    "### square with rectangle"
   ],
   "metadata": {}
  },
  {
   "cell_type": "code",
   "execution_count": 6,
   "source": [
    "img_rec = np.zeros((512,512,3),np.uint8)\n",
    "cv2.rectangle(img_rec,(20,20),(200,200),(0,0,255),5)\n",
    "cv2.imshow('img_rec', img_rec)\n",
    "\n",
    "cv2.waitKey(0)\n",
    "cv2.destroyAllWindows()"
   ],
   "outputs": [],
   "metadata": {}
  },
  {
   "cell_type": "markdown",
   "source": [
    "### square with circle"
   ],
   "metadata": {}
  },
  {
   "cell_type": "code",
   "execution_count": 7,
   "source": [
    "img_circle = np.zeros((512,512,3),np.uint8)\n",
    "cv2.circle(img_circle,(256,256),256,(255,255,0),5)\n",
    "cv2.imshow('img circle', img_circle)\n",
    "\n",
    "cv2.waitKey(0)\n",
    "cv2.destroyAllWindows()"
   ],
   "outputs": [],
   "metadata": {}
  },
  {
   "cell_type": "markdown",
   "source": [
    "### Textos"
   ],
   "metadata": {}
  },
  {
   "cell_type": "code",
   "execution_count": 10,
   "source": [
    "img_text = np.zeros((512,512,3),np.uint8)\n",
    "cv2.putText(img_text,\" SENAI CIMATEC  \",(128,256),cv2.FONT_HERSHEY_COMPLEX,1,(168,94,29),1)\n",
    "cv2.imshow('img_text', img_text)\n",
    "\n",
    "cv2.waitKey(0)\n",
    "cv2.destroyAllWindows()"
   ],
   "outputs": [],
   "metadata": {}
  },
  {
   "cell_type": "markdown",
   "source": [
    "### Combinadas"
   ],
   "metadata": {}
  },
  {
   "cell_type": "code",
   "execution_count": 13,
   "source": [
    "img_combined = np.zeros((512,512,3),np.uint8)\n",
    "cv2.putText(img_combined,\" SENAI CIMATEC  \",(128,248),cv2.FONT_HERSHEY_COMPLEX,1,(168,94,29),2)\n",
    "cv2.circle(img_combined,(256,256),180,(255,255,0),5)\n",
    "cv2.line(img_combined,(76,256),(436,256),(0,255,0),3)\n",
    "cv2.rectangle(img_combined,(74,74),(438,438),(0,0,255),2)\n",
    "cv2.imshow('combined', img_combined)\n",
    "\n",
    "cv2.waitKey(0)\n",
    "cv2.destroyAllWindows()"
   ],
   "outputs": [],
   "metadata": {}
  },
  {
   "cell_type": "markdown",
   "source": [
    "# Distorcao de perspectiva"
   ],
   "metadata": {}
  },
  {
   "cell_type": "code",
   "execution_count": 11,
   "source": [
    "# Características da imagem\n",
    "print(\"(altura, largura, canais)\")\n",
    "\n",
    "converted = conversion(img, 'rgb')\n",
    "\n",
    "print(img.shape)\n",
    "cv2.imshow('cards', converted)\n",
    "\n",
    "cv2.waitKey(0)\n",
    "cv2.destroyAllWindows()"
   ],
   "outputs": [
    {
     "output_type": "stream",
     "name": "stdout",
     "text": [
      "(altura, largura, canais)\n",
      "(500, 477, 3)\n"
     ]
    }
   ],
   "metadata": {}
  },
  {
   "cell_type": "markdown",
   "source": [
    "# DESAFIO"
   ],
   "metadata": {}
  },
  {
   "cell_type": "markdown",
   "source": [
    "## MARCACAO DE VERTICES"
   ],
   "metadata": {}
  },
  {
   "cell_type": "code",
   "execution_count": 9,
   "source": [
    "# Apenas para vizualização #\n",
    "# Marcação dos 4 vértices (AZUL)\n",
    "# cv2.circle(converted,(111,219),2,(255,255,0),5) # Vértice 1\n",
    "# cv2.circle(converted,(287,188),2,(255,255,0),5) # Vértice 2\n",
    "# cv2.circle(converted,(154,482),2,(255,255,0),5) # Vértice 3\n",
    "# cv2.circle(converted,(352,440),2,(255,255,0),5) # Vértice 4\n",
    "\n",
    "# Apenas para vizualização #\n",
    "\n",
    "# cv2.imshow('cards', converted)\n",
    "\n",
    "# cv2.waitKey(0)\n",
    "# cv2.destroyAllWindows()"
   ],
   "outputs": [],
   "metadata": {}
  },
  {
   "cell_type": "markdown",
   "source": [
    "## CONVERSAO"
   ],
   "metadata": {}
  },
  {
   "cell_type": "code",
   "execution_count": 15,
   "source": [
    "# Tamanho da carta\n",
    "width,height = 250,350\n",
    "\n",
    "# Coordenadas atuais dos 4 vértices\n",
    "pts1 = np.float32([[10,127],[149,40],[144,300],[257,205]])\n",
    "\n",
    "# Coordenadas desejadas da projeção\n",
    "pts2 = np.float32([[0,0],[width,0],[0,height],[width,height]])\n",
    "\n",
    "\n",
    "cv2.circle(converted,(10,127),2,(255,255,0),5) # Vértice 5\n",
    "cv2.circle(converted,(149,40),2,(255,255,0),5) # Vértice 6\n",
    "cv2.circle(converted,(257,205),2,(255,255,0),5) # Vértice 6\n",
    "cv2.circle(converted,(144,300),2,(255,255,0),5) # Vértice 6\n",
    "\n",
    "#Marcação das 4 linhas (VERDE)\n",
    "cv2.line(converted,(0,0),(10,127),(0,255,0),3)\n",
    "cv2.line(converted,(width,0),(149,40),(0,255,0),3)\n",
    "cv2.line(converted,(0,height),(144,300),(0,255,0),3)\n",
    "cv2.line(converted,(width,height),(257,205),(0,255,0),3)\n",
    "\n",
    "# Retângulo representando a posição desejada (VERMELHO)\n",
    "cv2.rectangle(converted,(0,0),(width,height),(0,0,255),3)\n",
    "# Apenas para vizualização #\n",
    "\n",
    "cv2.imshow('copas', converted)\n",
    "\n",
    "cv2.waitKey(0)\n",
    "cv2.destroyAllWindows()"
   ],
   "outputs": [],
   "metadata": {}
  },
  {
   "cell_type": "code",
   "execution_count": 22,
   "source": [
    "# Matriz de Transformação de Perspectiva\n",
    "matrix = cv2.getPerspectiveTransform(pts1,pts2)\n",
    "\n",
    "# Distorção de Perspectiva\n",
    "imgOutput = cv2.warpPerspective(converted,matrix,(width,height))\n",
    "\n",
    "print(\"Imagem com distorção de perspectiva\")\n",
    "cv2.imshow('perespectiva copas', imgOutput)\n",
    "\n",
    "cv2.waitKey(0)\n",
    "cv2.destroyAllWindows()"
   ],
   "outputs": [
    {
     "output_type": "stream",
     "name": "stdout",
     "text": [
      "Imagem com distorção de perspectiva\n"
     ]
    }
   ],
   "metadata": {}
  }
 ],
 "metadata": {
  "kernelspec": {
   "name": "python3",
   "display_name": "Python 3.8.10 64-bit"
  },
  "language_info": {
   "codemirror_mode": {
    "name": "ipython",
    "version": 3
   },
   "file_extension": ".py",
   "mimetype": "text/x-python",
   "name": "python",
   "nbconvert_exporter": "python",
   "pygments_lexer": "ipython3",
   "version": "3.8.10"
  },
  "interpreter": {
   "hash": "916dbcbb3f70747c44a77c7bcd40155683ae19c65e1c03b4aa3499c5328201f1"
  }
 },
 "nbformat": 4,
 "nbformat_minor": 5
}